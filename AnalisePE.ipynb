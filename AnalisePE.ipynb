{
  "nbformat": 4,
  "nbformat_minor": 0,
  "metadata": {
    "colab": {
      "name": "AnalisePE.ipynb",
      "provenance": [],
      "collapsed_sections": [
        "BKa-gfS3jfu-",
        "nua-2X2Fjf6O",
        "AFBRw2skjgDN",
        "fwVKmExYpA-M",
        "VvlIrmpEjtCs",
        "IyHMbBMDFXum",
        "C631HRlC7inR",
        "io01oVmdENM4"
      ],
      "include_colab_link": true
    },
    "kernelspec": {
      "name": "python3",
      "display_name": "Python 3"
    }
  },
  "cells": [
    {
      "cell_type": "markdown",
      "metadata": {
        "id": "view-in-github",
        "colab_type": "text"
      },
      "source": [
        "<a href=\"https://colab.research.google.com/github/henriquecl/imersao_alura/blob/main/AnalisePE.ipynb\" target=\"_parent\"><img src=\"https://colab.research.google.com/assets/colab-badge.svg\" alt=\"Open In Colab\"/></a>"
      ]
    },
    {
      "cell_type": "markdown",
      "metadata": {
        "id": "cHc0_J6baE_g"
      },
      "source": [
        "# **PROJETO ALURA ANÁLISE DOS DADOS ENEM 2019 PERNAMBUCO**"
      ]
    },
    {
      "cell_type": "markdown",
      "metadata": {
        "id": "BKa-gfS3jfu-"
      },
      "source": [
        "## **SEPARAÇÃO DOS DADOS APENAS DO ESTADO DE PERNAMBUCO**"
      ]
    },
    {
      "cell_type": "markdown",
      "metadata": {
        "id": "nua-2X2Fjf6O"
      },
      "source": [
        "### **Quebra dos microdados do ENEM 2019**"
      ]
    },
    {
      "cell_type": "markdown",
      "metadata": {
        "id": "rIBiRUh-kkdD"
      },
      "source": [
        "####Inicialmente, tentou-se rodar todo o .csv de microdados do enem 2019 no google colab, e devido ao grande quantitativo de dados não obteve-se êxito. Após uma breve busca no google, foi encontrado do software csvsplitter (link de download: https://www.erdconcepts.com/dbtoolbox/csvsplitter/csvsplitter.zip). A função desse software é quebrar o .csv principal em .csv menores de acordo com o desejado pelo usuário. Como o arquivo possui 3gb, foi estimado que arquivos menores de 300mb conseguiriam ser lidos pela biblíoteca pandas de maneira correta. O tamanho selecionado foi o adequado para o funcionamento correto, entretanto, o software ao fazer a quebra do arquivo em arquivo menores muda o tipo de encode do arquivo . A biblioteca pandas cujo por padrão, utiliza encode='utf-8', não conseguia fazer a leitura do novo arquivo. Sendo assim, para descobrir o tipo de encoding que o arquivo estava, utilizou-se a biblioteca chardet, cuja é possivel descobrir qual o encoding do arquivo. Segue código abaixo.\n",
        "```\n",
        "import chardet\n",
        "\n",
        "# Checando o tipo de encoding do arquivo\n",
        "with open(\"caminho_do_csv\", 'rb') as rawdata:\n",
        "    result = chardet.detect(rawdata.read(100000))\n",
        "print(result)\n",
        "----------------------------------------------------------------------\n",
        "retorno do código:\n",
        "{'encoding': 'ISO-8859-1', 'confidence': 0.73, 'language': ''}\n",
        "```\n",
        "\n",
        "####Com o tipo de encoding em mãos, foi possivel realizar a leitura do arquivo pela biblioteca pandas alterando o tipo de encondig da mesma.\n",
        "```\n",
        "dados = pd.read_csv(\"dados00.csv\", encoding='ISO-8859-1')\n",
        "```\n",
        "\n",
        "\n",
        "\n",
        "\n",
        "\n",
        "\n"
      ]
    },
    {
      "cell_type": "markdown",
      "metadata": {
        "id": "AFBRw2skjgDN"
      },
      "source": [
        "### **Filtrando os dados apenas de pernambuco**"
      ]
    },
    {
      "cell_type": "markdown",
      "metadata": {
        "id": "Kh_X5JS2pA3N"
      },
      "source": [
        "#### Para filtrar os dados, utilizou-se a biblioteca Pandas e o método .query() para que apenas as linhas cujas as colunas tivessem o parâmetro SG_UF_PROVA == PE fossem selecionadas e um novo .csv fosse criado com essa caracteristica. Note que, essa operação teve que ser realizada 10 vezes, visto que o .csv de microdados foi separado em 11 partes.\n",
        "```\n",
        "dados = pd.read_csv(\"dados00.csv\", encoding='ISO-8859-1') # Lendo o csv\n",
        "novo_df = dados.query(\"SG_UF_PROVA == 'PE'\")    # Realizando o filtro\n",
        "novo_df.to_csv(\"dado00_PE.csv\")                 # Criando um novo csv apenas das provas cujo foram realizadas no estado de Pernambuco.\n",
        "```\n",
        "#### Após esse processo, temos 11 novos .csv com os dados desejado. \n"
      ]
    },
    {
      "cell_type": "markdown",
      "metadata": {
        "id": "fwVKmExYpA-M"
      },
      "source": [
        "### **Juntando todos os .csv em apenas um só**"
      ]
    },
    {
      "cell_type": "markdown",
      "metadata": {
        "id": "_dKr4McypBBM"
      },
      "source": [
        "#### Para juntar todos os pequenos .csv utilizou-se a biblíoteca pandas. Leu-se todos os arquivos individualmente, e depois com o auxilio do método pd.concat() criou-se um dataframe que corresponde a união de todas as linhas dos 11 dataframes exportados em um único dataframe. Após isso, com o .to_csv criou-se o dataframe de TODOS os participante do ENEM 2019 que fizeram a prova em Pernambuco.\n",
        "\n",
        "\n",
        "\n",
        "```\n",
        "import pandas as pd\n",
        "\n",
        "dado_zero = pd.read_csv(\"dado00_PE.csv\", encoding= 'ISO-8859-1' )\n",
        "dado_um = pd.read_csv(\"dado01_PE.csv\", encoding='ISO-8859-1')\n",
        "dado_dois = pd.read_csv(\"dado02_PE.csv\", encoding='ISO-8859-1')\n",
        "dado_tres = pd.read_csv(\"dado03_PE.csv\", encoding='ISO-8859-1')\n",
        "dado_quatro = pd.read_csv(\"dado04_PE.csv\", encoding='ISO-8859-1')\n",
        "dado_cinco = pd.read_csv(\"dado05_PE.csv\", encoding='ISO-8859-1')\n",
        "dado_seis = pd.read_csv(\"dado06_PE.csv\", encoding='ISO-8859-1')\n",
        "dado_sete = pd.read_csv(\"dado07_PE.csv\", encoding='ISO-8859-1')\n",
        "dado_oito = pd.read_csv(\"dado08_PE.csv\", encoding='ISO-8859-1')\n",
        "dado_nove = pd.read_csv(\"dado09_PE.csv\", encoding='ISO-8859-1')\n",
        "dado_dez = pd.read_csv(\"dado10_PE.csv\", encoding='ISO-8859-1')\n",
        "\n",
        "datape = pd.concat([dado_zero, dado_um, dado_dois, dado_tres,dado_quatro,dado_cinco,dado_seis,dado_sete,dado_oito,dado_nove,dado_dez ])\n",
        "datape.to_csv(\"DadosPE.csv\")\n",
        "```\n",
        "\n"
      ]
    },
    {
      "cell_type": "markdown",
      "metadata": {
        "id": "VvlIrmpEjtCs"
      },
      "source": [
        "## **IMPORTANDO OS DADOS E CRIANDO ALGUMAS VARIÁVEIS UTILIZADAS NO PROJETO**"
      ]
    },
    {
      "cell_type": "code",
      "metadata": {
        "id": "bRzFvfr1LrCM",
        "outputId": "04b1c8ec-8801-4e3b-a02a-558aa62ceedd",
        "colab": {
          "base_uri": "https://localhost:8080/",
          "height": 34
        }
      },
      "source": [
        "import pandas as pd\n",
        "from google.colab import drive \n",
        "pd.set_option('display.max_columns', 5)\n",
        "drive.mount('/content/drive')\n",
        "import seaborn as sns\n",
        "import matplotlib\n",
        "import matplotlib.pyplot as plt\n",
        "import numpy as np\n",
        "# DataSet dos candidatos do ENEM 2019 de Pernambuco\n",
        "data = pd.read_csv('/content/drive/My Drive/DadosPE_FINAL_REDUZIDO.csv')\n",
        "#318 275 inscrições\n",
        "# Separando os alunos devido ao local estudado             # 275318 inscrições\n",
        "alunos_escola_publica_privada = data.query(\"TP_ESCOLA == 2 and TP_ESCOLA == 3\") \n",
        "alunos_escola_nao_informada = data.query(\"TP_ESCOLA == 1\") # 202080  inscrições\n",
        "alunos_escola_publica = data.query(\"TP_ESCOLA == 2\")       # 63322  inscrições\n",
        "alunos_escola_privada = data.query(\"TP_ESCOLA == 3\")       # 9916 inscrições\n",
        "alunos_escola_exterior = data.query(\"TP_ESCOLA == 4\")      # 0      inscrições\n",
        "\n",
        "# Separando por presença na prova\n",
        "alunos_escola_nao_informada_presentes = alunos_escola_nao_informada.query(\"NU_NOTA_CN != 'NaN' and NU_NOTA_CH != 'NaN' and NU_NOTA_LC != 'NaN' and NU_NOTA_MT != 'NaN'\")\n",
        "alunos_escola_publica_presentes = alunos_escola_publica.query(\"NU_NOTA_CN != 'NaN' and NU_NOTA_CH != 'NaN' and NU_NOTA_LC != 'NaN' and NU_NOTA_MT != 'NaN'\")\n",
        "alunos_escola_privada_presentes = alunos_escola_privada.query(\"TP_PRESENCA_CN == 1 and TP_PRESENCA_CH == 1 and TP_PRESENCA_LC == 1 and TP_PRESENCA_MT == 1\")\n",
        "\n",
        "# Separação por sexo dos presentes\n",
        "\n",
        "alunos_escola_nao_informada_presentes_feminino = alunos_escola_nao_informada_presentes.query(\"TP_SEXO == 'F'\") #85867\n",
        "alunos_escola_nao_informada_presentes_masculino = alunos_escola_nao_informada_presentes.query(\"TP_SEXO == 'M'\") # 58435\n",
        "alunos_escola_publica_presentes_feminino = alunos_escola_publica_presentes.query(\"TP_SEXO == 'F'\")              # 30056\n",
        "alunos_escola_publica_presentes_masculino = alunos_escola_publica_presentes.query(\"TP_SEXO == 'M'\")             # 21485\n",
        "alunos_escola_privada_presentes_feminino = alunos_escola_privada_presentes.query(\"TP_SEXO == 'F'\")              # 5101\n",
        "alunos_escola_privada_presentes_masculino = alunos_escola_privada_presentes.query(\"TP_SEXO == 'M'\")             # 4473\n",
        "\n"
      ],
      "execution_count": 250,
      "outputs": [
        {
          "output_type": "stream",
          "text": [
            "Drive already mounted at /content/drive; to attempt to forcibly remount, call drive.mount(\"/content/drive\", force_remount=True).\n"
          ],
          "name": "stdout"
        }
      ]
    },
    {
      "cell_type": "code",
      "metadata": {
        "id": "XDIEwA_mdl0r"
      },
      "source": [
        "# DataSet dos candidatos do ENEM 2019 de Pernambuco\n",
        "data = pd.read_csv('/content/drive/My Drive/DadosPE_FINAL_REDUZIDO.csv')\n",
        "#318 275 inscrições"
      ],
      "execution_count": 251,
      "outputs": []
    },
    {
      "cell_type": "code",
      "metadata": {
        "id": "BZhpKXGR4ZeM"
      },
      "source": [
        "notas = [\"NU_NOTA_CN\", \"NU_NOTA_CH\",\"NU_NOTA_LC\",\"NU_NOTA_MT\", \"NU_NOTA_REDACAO\"]"
      ],
      "execution_count": 252,
      "outputs": []
    },
    {
      "cell_type": "markdown",
      "metadata": {
        "id": "IyHMbBMDFXum"
      },
      "source": [
        "## **ANALISE DE NÚMERO DE FALTAS DE ACORDO COM O TIPO DE ESCOLA DO PARTICIPANTE E SUA RENDA**\n"
      ]
    },
    {
      "cell_type": "code",
      "metadata": {
        "id": "g3m2dVYI0KsE",
        "outputId": "0547de28-9f20-4285-8f0b-12be875af8e8",
        "colab": {
          "base_uri": "https://localhost:8080/",
          "height": 34
        }
      },
      "source": [
        "# Alunos de escola privada que faltaram  algum dia de prova == 342\n",
        "pd.set_option('display.max_rows', 5)\n",
        "alunos_escola_privada_faltantes = alunos_escola_privada.query(\"NU_NOTA_CN == 'NaN' or NU_NOTA_CH == 'NaN' or NU_NOTA_LC == 'NaN' or NU_NOTA_MT == 'NaN' or NU_NOTA_REDACAO == 'NaN' \")\n",
        "len(alunos_escola_privada_faltantes)\n",
        "# 342 ------- 3.45% : Percentual em cima do número de alunos que são de escola privada"
      ],
      "execution_count": 253,
      "outputs": [
        {
          "output_type": "execute_result",
          "data": {
            "text/plain": [
              "342"
            ]
          },
          "metadata": {
            "tags": []
          },
          "execution_count": 253
        }
      ]
    },
    {
      "cell_type": "code",
      "metadata": {
        "id": "uNX_v6Xx-aS0",
        "outputId": "e9379329-b64c-4b86-d1ee-4929e421d4ec",
        "colab": {
          "base_uri": "https://localhost:8080/",
          "height": 34
        }
      },
      "source": [
        "# Alunos de escola privada que faltaram  algum dia de prova e possuem renda familiar inferior a 2 salários mínimos \n",
        "len(alunos_escola_privada_faltantes.query(\"Q006 == 'A' or Q006 == 'B'\"))\n",
        "# 71 ------- 20.7%  : Percentual em cima do numero de alunos faltantes de escola privada"
      ],
      "execution_count": 254,
      "outputs": [
        {
          "output_type": "execute_result",
          "data": {
            "text/plain": [
              "71"
            ]
          },
          "metadata": {
            "tags": []
          },
          "execution_count": 254
        }
      ]
    },
    {
      "cell_type": "code",
      "metadata": {
        "id": "377VDW_N0L5E"
      },
      "source": [
        "# Alunos de escola pública que faltaram  algum dia de prova == 11781\n",
        "alunos_escola_publica_faltantes = alunos_escola_publica.query(\"NU_NOTA_CN == 'NaN' or NU_NOTA_CH == 'NaN' or NU_NOTA_LC == 'NaN' or NU_NOTA_MT == 'NaN' or NU_NOTA_REDACAO == 'NaN' \")\n",
        "# 11781 ------- 18.6% :  Percentual em cima do número de alunos que são de escola pública"
      ],
      "execution_count": 255,
      "outputs": []
    },
    {
      "cell_type": "code",
      "metadata": {
        "id": "NYOF3oIz_nlM",
        "outputId": "b5addfec-3347-412d-8dcf-4ad70c98d080",
        "colab": {
          "base_uri": "https://localhost:8080/",
          "height": 233
        }
      },
      "source": [
        "# Alunos de escola pública que faltaram  algum dia de prova e possuem renda familiar inferior a 2 salários mínimos \n",
        "alunos_escola_publica_faltantes.query(\"Q006 == 'A' or Q006 == 'B' \")\n",
        "# 8166  ------- 69.3% :  Percentual em cima do numero de alunos faltantes de escola pública"
      ],
      "execution_count": 256,
      "outputs": [
        {
          "output_type": "execute_result",
          "data": {
            "text/html": [
              "<div>\n",
              "<style scoped>\n",
              "    .dataframe tbody tr th:only-of-type {\n",
              "        vertical-align: middle;\n",
              "    }\n",
              "\n",
              "    .dataframe tbody tr th {\n",
              "        vertical-align: top;\n",
              "    }\n",
              "\n",
              "    .dataframe thead th {\n",
              "        text-align: right;\n",
              "    }\n",
              "</style>\n",
              "<table border=\"1\" class=\"dataframe\">\n",
              "  <thead>\n",
              "    <tr style=\"text-align: right;\">\n",
              "      <th></th>\n",
              "      <th>Unnamed: 0</th>\n",
              "      <th>CO_MUNICIPIO_RESIDENCIA</th>\n",
              "      <th>...</th>\n",
              "      <th>Q024</th>\n",
              "      <th>Q025</th>\n",
              "    </tr>\n",
              "  </thead>\n",
              "  <tbody>\n",
              "    <tr>\n",
              "      <th>129</th>\n",
              "      <td>129</td>\n",
              "      <td>2613701</td>\n",
              "      <td>...</td>\n",
              "      <td>A</td>\n",
              "      <td>A</td>\n",
              "    </tr>\n",
              "    <tr>\n",
              "      <th>247</th>\n",
              "      <td>247</td>\n",
              "      <td>2610004</td>\n",
              "      <td>...</td>\n",
              "      <td>A</td>\n",
              "      <td>B</td>\n",
              "    </tr>\n",
              "    <tr>\n",
              "      <th>...</th>\n",
              "      <td>...</td>\n",
              "      <td>...</td>\n",
              "      <td>...</td>\n",
              "      <td>...</td>\n",
              "      <td>...</td>\n",
              "    </tr>\n",
              "    <tr>\n",
              "      <th>275290</th>\n",
              "      <td>1161</td>\n",
              "      <td>2603454</td>\n",
              "      <td>...</td>\n",
              "      <td>A</td>\n",
              "      <td>A</td>\n",
              "    </tr>\n",
              "    <tr>\n",
              "      <th>275293</th>\n",
              "      <td>1164</td>\n",
              "      <td>2601102</td>\n",
              "      <td>...</td>\n",
              "      <td>A</td>\n",
              "      <td>B</td>\n",
              "    </tr>\n",
              "  </tbody>\n",
              "</table>\n",
              "<p>8166 rows × 124 columns</p>\n",
              "</div>"
            ],
            "text/plain": [
              "        Unnamed: 0  CO_MUNICIPIO_RESIDENCIA  ... Q024  Q025\n",
              "129            129                  2613701  ...    A     A\n",
              "247            247                  2610004  ...    A     B\n",
              "...            ...                      ...  ...  ...   ...\n",
              "275290        1161                  2603454  ...    A     A\n",
              "275293        1164                  2601102  ...    A     B\n",
              "\n",
              "[8166 rows x 124 columns]"
            ]
          },
          "metadata": {
            "tags": []
          },
          "execution_count": 256
        }
      ]
    },
    {
      "cell_type": "code",
      "metadata": {
        "id": "2iMVAcGq8hNn"
      },
      "source": [
        "# Alunos sem escola declarada que faltaram algum dia de prova == 57778\n",
        "alunos_escola_nao_informada_faltantes = alunos_escola_nao_informada.query(\"NU_NOTA_CN == 'NaN' or NU_NOTA_CH == 'NaN' or NU_NOTA_LC == 'NaN' or NU_NOTA_MT == 'NaN' or NU_NOTA_REDACAO == 'NaN' \")\n",
        "# 57778 ---- 28.6%   :  Percentual em cima do número de alunos que são não declararam tipo de escola"
      ],
      "execution_count": 257,
      "outputs": []
    },
    {
      "cell_type": "code",
      "metadata": {
        "id": "ANrLJ6qbAC9v",
        "outputId": "79e0c406-a8ce-47aa-e5f8-c8cc8789781a",
        "colab": {
          "base_uri": "https://localhost:8080/",
          "height": 233
        }
      },
      "source": [
        "# Alunos sem escola declarada que faltaram  algum dia de prova e possuem renda familiar inferior a 2 salários mínimos \n",
        "alunos_escola_nao_informada_faltantes.query(\"Q006 == 'A' or Q006 == 'B' \")\n",
        "# 26842 ---- 46.45%  : Percentual em cima do numero de alunos faltantes sem escola declarada"
      ],
      "execution_count": 258,
      "outputs": [
        {
          "output_type": "execute_result",
          "data": {
            "text/html": [
              "<div>\n",
              "<style scoped>\n",
              "    .dataframe tbody tr th:only-of-type {\n",
              "        vertical-align: middle;\n",
              "    }\n",
              "\n",
              "    .dataframe tbody tr th {\n",
              "        vertical-align: top;\n",
              "    }\n",
              "\n",
              "    .dataframe thead th {\n",
              "        text-align: right;\n",
              "    }\n",
              "</style>\n",
              "<table border=\"1\" class=\"dataframe\">\n",
              "  <thead>\n",
              "    <tr style=\"text-align: right;\">\n",
              "      <th></th>\n",
              "      <th>Unnamed: 0</th>\n",
              "      <th>CO_MUNICIPIO_RESIDENCIA</th>\n",
              "      <th>...</th>\n",
              "      <th>Q024</th>\n",
              "      <th>Q025</th>\n",
              "    </tr>\n",
              "  </thead>\n",
              "  <tbody>\n",
              "    <tr>\n",
              "      <th>0</th>\n",
              "      <td>0</td>\n",
              "      <td>2610707</td>\n",
              "      <td>...</td>\n",
              "      <td>A</td>\n",
              "      <td>A</td>\n",
              "    </tr>\n",
              "    <tr>\n",
              "      <th>11</th>\n",
              "      <td>11</td>\n",
              "      <td>2614105</td>\n",
              "      <td>...</td>\n",
              "      <td>A</td>\n",
              "      <td>B</td>\n",
              "    </tr>\n",
              "    <tr>\n",
              "      <th>...</th>\n",
              "      <td>...</td>\n",
              "      <td>...</td>\n",
              "      <td>...</td>\n",
              "      <td>...</td>\n",
              "      <td>...</td>\n",
              "    </tr>\n",
              "    <tr>\n",
              "      <th>275264</th>\n",
              "      <td>1135</td>\n",
              "      <td>2600104</td>\n",
              "      <td>...</td>\n",
              "      <td>A</td>\n",
              "      <td>A</td>\n",
              "    </tr>\n",
              "    <tr>\n",
              "      <th>275265</th>\n",
              "      <td>1136</td>\n",
              "      <td>2606507</td>\n",
              "      <td>...</td>\n",
              "      <td>A</td>\n",
              "      <td>A</td>\n",
              "    </tr>\n",
              "  </tbody>\n",
              "</table>\n",
              "<p>26842 rows × 124 columns</p>\n",
              "</div>"
            ],
            "text/plain": [
              "        Unnamed: 0  CO_MUNICIPIO_RESIDENCIA  ... Q024  Q025\n",
              "0                0                  2610707  ...    A     A\n",
              "11              11                  2614105  ...    A     B\n",
              "...            ...                      ...  ...  ...   ...\n",
              "275264        1135                  2600104  ...    A     A\n",
              "275265        1136                  2606507  ...    A     A\n",
              "\n",
              "[26842 rows x 124 columns]"
            ]
          },
          "metadata": {
            "tags": []
          },
          "execution_count": 258
        }
      ]
    },
    {
      "cell_type": "markdown",
      "metadata": {
        "id": "VHFL7R3MlGtJ"
      },
      "source": [
        "#### Conclusão das faltas: Dentre os alunos de escola privada que se matricularam no ENEM, apenas 3.45% deles algum dia de prova. Já no caso das escolas públicas, esse número sobe para 18.6%. Para o caso dos alunos que não informaram o tipo de escola cujo cursaram o ensino médio, 28.6% faltaram a prova."
      ]
    },
    {
      "cell_type": "markdown",
      "metadata": {
        "id": "Hqv_d9CxmMeP"
      },
      "source": [
        "#### Conclusão da rendas dos alunos que faltaram: Dos alunos de escola privada que faltaram algum dia de prova, 20.7% possuem renda familiar menor que 2 salários mínimos. Esse número para os alunos de escola pública é de 69.3%. Para os que não declararam o tipo de escola que cursaram o ensino médio, esse valor é de 46.45%"
      ]
    },
    {
      "cell_type": "markdown",
      "metadata": {
        "id": "aGoCB7UfGpHK"
      },
      "source": [
        "## **ANALISE DA MÉDIA DAS NOTAS DE ACORDO COM A ESCOLA DO PARTICIPANTE**\n"
      ]
    },
    {
      "cell_type": "code",
      "metadata": {
        "id": "dRWEG-5eGtzm"
      },
      "source": [
        "lista_media_notas_privada = list(alunos_escola_privada_presentes[notas].mean())\n",
        "lista_media_notas_publica = list(alunos_escola_publica_presentes[notas].mean())"
      ],
      "execution_count": 259,
      "outputs": []
    },
    {
      "cell_type": "code",
      "metadata": {
        "id": "GBFCmru_L04Q"
      },
      "source": [
        "lista_media_notas_nao_informada = list(alunos_escola_nao_informada_presentes[notas].mean())\n"
      ],
      "execution_count": 260,
      "outputs": []
    },
    {
      "cell_type": "code",
      "metadata": {
        "id": "keZzixjLHvpL",
        "outputId": "defb5f9f-dfc5-4aed-a794-82cc9a55cad9",
        "colab": {
          "base_uri": "https://localhost:8080/",
          "height": 34
        }
      },
      "source": [
        "lista_media_notas_publica = list(alunos_escola_publica_presentes[notas].mean())\n",
        "lista_media_notas_publica \n",
        "diferenca =[] \n",
        "for i in range(len(lista_media_notas_privada)):\n",
        "  a = round((lista_media_notas_privada[i]/lista_media_notas_publica[i] - 1)*100,2)\n",
        "  b = str(a) + \"%\"\n",
        "  diferenca.append(b)\n",
        "diferenca"
      ],
      "execution_count": 261,
      "outputs": [
        {
          "output_type": "execute_result",
          "data": {
            "text/plain": [
              "['16.41%', '15.59%', '11.36%', '21.21%', '31.55%']"
            ]
          },
          "metadata": {
            "tags": []
          },
          "execution_count": 261
        }
      ]
    },
    {
      "cell_type": "code",
      "metadata": {
        "id": "CYyYIVnUWyv4",
        "outputId": "fb5ef791-452f-4f0e-8986-d53f44f9560b",
        "colab": {
          "base_uri": "https://localhost:8080/",
          "height": 298
        }
      },
      "source": [
        "plt.figure(figsize=(10,8))\n",
        "materias2 = [\"CN\", \"CH\", \"Linguagens\", \"Matemática\", \"Redação\"]\n",
        "x = np.arange(len(materias2))\n",
        "width = 0.35\n",
        "fig, ax = plt.subplots()\n",
        "rects1 = ax.bar(x - width/2, lista_media_notas_privada,  color = 'royalblue', width= 0.25, label='Escola Privada')\n",
        "rects2 = ax.bar(x + width/2, lista_media_notas_publica,color = 'cornflowerblue', width= 0.25, label='Escola Pública')\n",
        "ax.set_ylabel('Notas')\n",
        "ax.set_title('Notas por tipo de escola')\n",
        "ax.set_xticks(x)\n",
        "ax.set_xticklabels(materias2)\n",
        "ax.legend()\n",
        "plt.show()"
      ],
      "execution_count": 389,
      "outputs": [
        {
          "output_type": "display_data",
          "data": {
            "text/plain": [
              "<Figure size 720x576 with 0 Axes>"
            ]
          },
          "metadata": {
            "tags": []
          }
        },
        {
          "output_type": "display_data",
          "data": {
            "image/png": "[encoded data removed]",
            "text/plain": [
              "<Figure size 432x288 with 1 Axes>"
            ]
          },
          "metadata": {
            "tags": [],
            "needs_background": "light"
          }
        }
      ]
    },
    {
      "cell_type": "markdown",
      "metadata": {
        "id": "mlT7QrrnPn6N"
      },
      "source": [
        "#### Conclusão: Em todas as provas as pontuações dos alunos que cursaram ensino médio em  escolas privadas são superiores as escolas públicas.\n",
        "\n",
        "\n",
        "           \n",
        "\n",
        "> CN: 16.41% Superior\n",
        "\n",
        "> CH: 15,59% Superior\n",
        "\n",
        ">  LC: 11,36% Superior\n",
        "\n",
        "> MT: 21,21% Superior\n",
        "\n",
        "> Redacação: 31,55% Superior\n",
        "\n",
        "\n"
      ]
    },
    {
      "cell_type": "markdown",
      "metadata": {
        "id": "C631HRlC7inR"
      },
      "source": [
        "## **ANALISE DA MÉDIA DAS NOTAS DE ACORDO COM O SEXO DO PARTICIPANTE COM O SEXO OPOSTO NO MESMO TIPO DE ESCOLA**"
      ]
    },
    {
      "cell_type": "code",
      "metadata": {
        "id": "A2gYuqLT7wIh",
        "outputId": "5017353a-383b-47e3-e67a-41969e3b9ce6",
        "colab": {
          "base_uri": "https://localhost:8080/",
          "height": 0
        }
      },
      "source": [
        "lista_media_notas_feminina_publica  =  list(round(alunos_escola_publica_presentes_feminino[notas].mean(),2))\n",
        "lista_media_notas_masculino_publica =  list(round(alunos_escola_publica_presentes_masculino[notas].mean(),2))\n",
        "lista_media_notas_feminina_privada  =  list(round(alunos_escola_privada_presentes_feminino[notas].mean(),2))\n",
        "lista_media_notas_masculino_privada =  list(round(alunos_escola_privada_presentes_masculino[notas].mean(),2))\n",
        "\n",
        "materias = [\"Ciências da Natureza\", \"Ciências Humanas\", \"Linguagens e Código\", \"Matemática\", \"Redação\"]\n",
        "dif_notas_publica_por_sexo  = []\n",
        "dif_notas_privada_por_sexo  = []\n",
        "dif_notas_escolas_feminino  = []\n",
        "dif_notas_escolas_masculino = []\n",
        "\n",
        "for i in range(len(lista_media_notas_feminina_publica)):\n",
        "    k = round(((lista_media_notas_feminina_publica[i] / lista_media_notas_masculino_publica[i]) - 1) * 100,2)\n",
        "    k1 = str(materias[i]) +\": \" +str(k) + \"%\"\n",
        "    dif_notas_publica_por_sexo.append(k1)\n",
        "\n",
        "\n",
        "\n",
        "for i2 in range(len(lista_media_notas_feminina_privada)):\n",
        "    k = round((( lista_media_notas_feminina_privada[i2] / lista_media_notas_masculino_privada[i2] ) - 1) * 100,2)\n",
        "    k1 = str(materias[i2]) +\": \" +str(k) + \"%\"\n",
        "    dif_notas_privada_por_sexo.append(k1)\n",
        "\n",
        "\n",
        "\n",
        "plt.figure(figsize=(10,8))\n",
        "x = np.arange(len(materias2))\n",
        "width = 0.35\n",
        "fig, ax = plt.subplots()\n",
        "rects1 = ax.bar(x - width/2, lista_media_notas_feminina_publica, width, label='Mulheres')\n",
        "rects2 = ax.bar(x + width/2, lista_media_notas_masculino_publica, width, label='Homens')\n",
        "ax.set_ylabel('Notas')\n",
        "ax.set_title('Notas por gênero em escola pública')\n",
        "ax.set_xticks(x)\n",
        "ax.set_xticklabels(materias2)\n",
        "ax.legend()\n",
        "plt.show()"
      ],
      "execution_count": 263,
      "outputs": [
        {
          "output_type": "display_data",
          "data": {
            "text/plain": [
              "<Figure size 720x576 with 0 Axes>"
            ]
          },
          "metadata": {
            "tags": []
          }
        },
        {
          "output_type": "display_data",
          "data": {
            "image/png": "[encoded data removed]",
            "text/plain": [
              "<Figure size 432x288 with 1 Axes>"
            ]
          },
          "metadata": {
            "tags": [],
            "needs_background": "light"
          }
        }
      ]
    },
    {
      "cell_type": "code",
      "metadata": {
        "id": "V8BNbiy_V_Cq",
        "outputId": "20a8d45a-295f-4bfb-9846-9e2e886447ef",
        "colab": {
          "base_uri": "https://localhost:8080/",
          "height": 0
        }
      },
      "source": [
        "\n",
        "x = np.arange(len(materias2))\n",
        "width = 0.35\n",
        "fig, ax = plt.subplots()\n",
        "rects1 = ax.bar(x - width/2, lista_media_notas_feminina_privada, width, label='Mulheres')\n",
        "rects2 = ax.bar(x + width/2, lista_media_notas_masculino_privada, width, label='Homens')\n",
        "ax.set_ylabel('Notas')\n",
        "ax.set_title('Notas por gênero em escola privada')\n",
        "ax.set_xticks(x)\n",
        "ax.set_xticklabels(materias2)\n",
        "ax.legend()\n",
        "plt.show()"
      ],
      "execution_count": 264,
      "outputs": [
        {
          "output_type": "display_data",
          "data": {
            "image/png": "[encoded data removed]",
            "text/plain": [
              "<Figure size 432x288 with 1 Axes>"
            ]
          },
          "metadata": {
            "tags": [],
            "needs_background": "light"
          }
        }
      ]
    },
    {
      "cell_type": "markdown",
      "metadata": {
        "id": "L61SUoA6HUpG"
      },
      "source": [
        "Conclusões obtidas: \n",
        "    \n",
        "\n",
        "> - Como já esperado, não há diferença gritante entre as notas obtidas por homens e mulheres cujos estudaram no mesmo tipo de escola.\n",
        "\n",
        "\n",
        "\n",
        "\n",
        "\n",
        "\n"
      ]
    },
    {
      "cell_type": "markdown",
      "metadata": {
        "id": "io01oVmdENM4"
      },
      "source": [
        "## **ANALISE DA MÉDIA DAS NOTAS DE ACORDO COM O SEXO DO PARTICIPANTE COM O DE MESMO SEXO EM TIPOS DE ESCOLAS DIFERENTES**"
      ]
    },
    {
      "cell_type": "code",
      "metadata": {
        "id": "fp975D5TEhU_",
        "outputId": "3c4680c7-cb86-434c-f5d8-f2fde3dfe889",
        "colab": {
          "base_uri": "https://localhost:8080/",
          "height": 352
        }
      },
      "source": [
        "for i3 in range(len(lista_media_notas_feminina_privada)):\n",
        "    k2 = round(((lista_media_notas_feminina_privada[i3] / lista_media_notas_feminina_publica[i3]) - 1) * 100,2)\n",
        "    k3 = str(materias[i3]) +\": \" +str(k2) + \"%\"\n",
        "    dif_notas_escolas_feminino.append(k3)\n",
        "\n",
        "\n",
        "\n",
        "for i4 in range(len(lista_media_notas_feminina_privada)):\n",
        "    k4 = round(((lista_media_notas_masculino_privada[i4] / lista_media_notas_masculino_publica[i4]) - 1) * 100,2)\n",
        "    k5 = str(materias[i4]) +\": \" +str(k4) + \"%\"\n",
        "    dif_notas_escolas_masculino.append(k5)\n",
        "\n",
        "\n",
        "print(dif_notas_escolas_feminino)\n",
        "print(dif_notas_escolas_masculino)\n",
        "plt.figure(figsize=(10,8))\n",
        "x = np.arange(len(materias2))\n",
        "width = 0.35\n",
        "fig, ax = plt.subplots()\n",
        "rects1 = ax.bar(x + 0.00, lista_media_notas_masculino_privada, color = 'royalblue', width = 0.25, label='Homens escola privada')\n",
        "rects2 = ax.bar(x + 0.25, lista_media_notas_masculino_publica, color = 'cornflowerblue', width = 0.25, label='Homens escola pública')\n",
        "ax.set_ylabel('Notas')\n",
        "ax.set_title('Notas do sexo masculino em diferentes tipos de escola')\n",
        "ax.set_xticks(x)\n",
        "ax.set_xticklabels(materias2)\n",
        "ax.legend()\n",
        "plt.show()\n"
      ],
      "execution_count": 388,
      "outputs": [
        {
          "output_type": "stream",
          "text": [
            "['Ciências da Natureza: 17.61%', 'Ciências Humanas: 16.22%', 'Linguagens e Código: 12.04%', 'Matemática: 21.26%', 'Redação: 33.09%', 'Ciências da Natureza: 17.61%', 'Ciências Humanas: 16.22%', 'Linguagens e Código: 12.04%', 'Matemática: 21.26%', 'Redação: 33.09%', 'Ciências da Natureza: 17.61%', 'Ciências Humanas: 16.22%', 'Linguagens e Código: 12.04%', 'Matemática: 21.26%', 'Redação: 33.09%', 'Ciências da Natureza: 17.61%', 'Ciências Humanas: 16.22%', 'Linguagens e Código: 12.04%', 'Matemática: 21.26%', 'Redação: 33.09%', 'Ciências da Natureza: 17.61%', 'Ciências Humanas: 16.22%', 'Linguagens e Código: 12.04%', 'Matemática: 21.26%', 'Redação: 33.09%']\n",
            "['Ciências da Natureza: 14.6%', 'Ciências Humanas: 14.62%', 'Linguagens e Código: 10.56%', 'Matemática: 20.28%', 'Redação: 30.29%', 'Ciências da Natureza: 14.6%', 'Ciências Humanas: 14.62%', 'Linguagens e Código: 10.56%', 'Matemática: 20.28%', 'Redação: 30.29%', 'Ciências da Natureza: 14.6%', 'Ciências Humanas: 14.62%', 'Linguagens e Código: 10.56%', 'Matemática: 20.28%', 'Redação: 30.29%', 'Ciências da Natureza: 14.6%', 'Ciências Humanas: 14.62%', 'Linguagens e Código: 10.56%', 'Matemática: 20.28%', 'Redação: 30.29%', 'Ciências da Natureza: 14.6%', 'Ciências Humanas: 14.62%', 'Linguagens e Código: 10.56%', 'Matemática: 20.28%', 'Redação: 30.29%']\n"
          ],
          "name": "stdout"
        },
        {
          "output_type": "display_data",
          "data": {
            "text/plain": [
              "<Figure size 720x576 with 0 Axes>"
            ]
          },
          "metadata": {
            "tags": []
          }
        },
        {
          "output_type": "display_data",
          "data": {
            "image/png": "[encoded data removed]",
            "text/plain": [
              "<Figure size 432x288 with 1 Axes>"
            ]
          },
          "metadata": {
            "tags": [],
            "needs_background": "light"
          }
        }
      ]
    },
    {
      "cell_type": "code",
      "metadata": {
        "id": "KTHk0SMKbgt8",
        "outputId": "66125bc9-d049-4bf2-eeae-8fe469c1ab06",
        "colab": {
          "base_uri": "https://localhost:8080/",
          "height": 298
        }
      },
      "source": [
        "plt.figure(figsize=(10,8))\n",
        "x = np.arange(len(materias2))\n",
        "width = 0.35\n",
        "fig, ax = plt.subplots()\n",
        "\n",
        "rects1 = ax.bar(x + 0.00, lista_media_notas_feminina_privada, color = 'royalblue' , width = 0.25, label='Mulheres escola privada')\n",
        "rects2 = ax.bar(x + 0.25, lista_media_notas_feminina_publica,  color = 'cornflowerblue', width =0.25 , label='Mulheres escola pública')\n",
        "ax.set_ylabel('Notas')\n",
        "ax.set_title('Notas do sexo feminino em diferentes tipos de escola')\n",
        "ax.set_xticks(x)\n",
        "ax.set_xticklabels(materias2)\n",
        "ax.legend()\n",
        "plt.show()"
      ],
      "execution_count": 384,
      "outputs": [
        {
          "output_type": "display_data",
          "data": {
            "text/plain": [
              "<Figure size 720x576 with 0 Axes>"
            ]
          },
          "metadata": {
            "tags": []
          }
        },
        {
          "output_type": "display_data",
          "data": {
            "image/png": "[encoded data removed]",
            "text/plain": [
              "<Figure size 432x288 with 1 Axes>"
            ]
          },
          "metadata": {
            "tags": [],
            "needs_background": "light"
          }
        }
      ]
    },
    {
      "cell_type": "markdown",
      "metadata": {
        "id": "7iFPV1pNHfZK"
      },
      "source": [
        "Conclusões: Como já analisado anteriormente na diferença de notas entre as escolas (pública e privada), o mesmo cenário ocorre quando analisamos no caso especifico do sexo masculino e do sexo feminino. Os estudantes que cursaram ensino médico em escola privada possuem uma larga vantagem sobre os que não cursaram.\n",
        "\n",
        "No caso das mulheres, a superioridade percentual entre as notas foram:\n",
        "\n",
        "\n",
        "> Ciências da Natureza: 17.61%\n",
        "\n",
        "> Ciências Humanas: 16.22%\n",
        "\n",
        "> Linguagens e Código: 12.04%\n",
        "\n",
        "> Matemática: 21.26%\n",
        "\n",
        "> Redação: 33.09%\n",
        "\n",
        "\n",
        "Já no caso dos homens:\n",
        "\n",
        "> Ciências da Natureza: 14.6%\n",
        "\n",
        "> Ciências Humanas: 14.62%\n",
        "\n",
        "> Linguagens e Código: 10.56%\n",
        "\n",
        "> Matemática: 20.28%\n",
        "\n",
        "> Redação: 30.29%"
      ]
    },
    {
      "cell_type": "markdown",
      "metadata": {
        "id": "fdtT4YlhhRXO"
      },
      "source": [
        "## **MÉDIA DAS NOTAS DE ACORDO COM O IDH DO MUNICÍPIOS**"
      ]
    },
    {
      "cell_type": "markdown",
      "metadata": {
        "id": "yBYQEi5Ds9bT"
      },
      "source": [
        "### Para analisar as notas pelo IDH foi necessario procurar qual o IDH dos municíos de Pernambuco e selecionar 5 de cada faixa do índice, cujo é classificado como: \n",
        "> Muito Alto – de 0,800 a 1000\n",
        "\n",
        "> Alto – de 0,700 a 0,799\n",
        "\n",
        "> Médio – de 0,600 a 0,699\n",
        "\n",
        "> Baixo – de 0,500 a 0,599\n",
        "\n",
        "> Muito Baixo – de 0,000 a 0,499\n",
        "\n",
        "### Infelizmente, em Pernambuco infelizmente não existe nenhum município com IDH muito alto, e felizmente apenas um município com IDH muito baixo. Logo, irá ser adquirido resultados apenas das faixas: Alto, Médio e Baixo.\n",
        "\n",
        "\n",
        "> Alto – de 0,700 a 0,799\n",
        "*   Fernando de Noronha 0,788\n",
        "*   Recife\t0,772\n",
        "*   Olinda\t0.735\n",
        "*   Paulista\t0.732\n",
        "*   Petrolina 0,702\n",
        "\n",
        "\n",
        "> Médio – de 0,600 a 0,699\n",
        "*   Araripina\t0.602\n",
        "*   Salgueiro\t0.669\n",
        "*   Carpina\t0,680  \n",
        "*   Triunfo 0,670\n",
        "*   Surubim\t0.635\n",
        "\n",
        "> Baixo – de 0,500 a 0,599\n",
        "*  Mirandiba\t0.591\n",
        "*  Santa Maria da Boa Vista\t0.590\n",
        "*  Agrestina\t0.592\n",
        "*  Cupira\t0.592\n",
        "*  Ouricuri\t0.572\n",
        "\n",
        "\n",
        "** Adendo: As cidades com IDH alto e médio foram selecionadas atráves da ferramenta do google de gerar números aleatórios. As de IDH baixo foram selecionadas por tentativa e erro, visto que muitas não possuem enem em seu municipio e tem que ir para outros municipios para realizar a prova.\n",
        "\n",
        "\n",
        "\n",
        "\n",
        "\n",
        "\n",
        "\n",
        "\n",
        "\n",
        "\n",
        "\n",
        "\n"
      ]
    },
    {
      "cell_type": "code",
      "metadata": {
        "id": "WsyekzXoyZHX"
      },
      "source": [
        "# Filtrando apenas as cidades de IDH alto e fazendo a média de notas de todas.\n",
        "idh_alto = data.query(\"NO_MUNICIPIO_PROVA == 'Fernando de Noronha' or NO_MUNICIPIO_PROVA == 'Recife' or  NO_MUNICIPIO_PROVA == 'Olinda' or NO_MUNICIPIO_PROVA == 'Paulista' or NO_MUNICIPIO_PROVA == 'Petrolina' \")\n",
        "idh_alto_presentes = idh_alto.query(\"NU_NOTA_CN != 'NaN' and NU_NOTA_CH != 'NaN' and NU_NOTA_LC != 'NaN' and NU_NOTA_MT != 'NaN'\") #74401\n",
        "media_idh_alto = idh_alto_presentes[notas].mean()\n",
        "#df_idh_alto = pd.DataFrame(idh_alto_presentes[notas].mean())\n",
        "#sns.barplot(data= df_idh_alto, y=0 )\n"
      ],
      "execution_count": 369,
      "outputs": []
    },
    {
      "cell_type": "code",
      "metadata": {
        "id": "6YTSzZP33ev5",
        "outputId": "bc9628dd-3d71-4c58-83be-5e2e502b382e",
        "colab": {
          "base_uri": "https://localhost:8080/",
          "height": 119
        }
      },
      "source": [
        "# Filtrando apenas as cidades de IDH médio e fazendo a média de notas de todas.\n",
        "idh_medio = data.query(\"NO_MUNICIPIO_PROVA == 'Araripina' or NO_MUNICIPIO_PROVA == 'Salgueiro' or  NO_MUNICIPIO_PROVA == 'Carpina' or NO_MUNICIPIO_PROVA == 'Triunfo' or NO_MUNICIPIO_PROVA == 'Surubim' \")\n",
        "idh_medio_presentes = idh_medio.query(\"NU_NOTA_CN != 'NaN' and NU_NOTA_CH != 'NaN' and NU_NOTA_LC != 'NaN' and NU_NOTA_MT != 'NaN'\") # 11055\n",
        "media_idh_medio = idh_medio_presentes[notas].mean()\n",
        "media_idh_medio\n"
      ],
      "execution_count": 370,
      "outputs": [
        {
          "output_type": "execute_result",
          "data": {
            "text/plain": [
              "NU_NOTA_CN         462.435007\n",
              "NU_NOTA_CH         491.522280\n",
              "NU_NOTA_LC         506.658372\n",
              "NU_NOTA_MT         514.501049\n",
              "NU_NOTA_REDACAO    570.538218\n",
              "dtype: float64"
            ]
          },
          "metadata": {
            "tags": []
          },
          "execution_count": 370
        }
      ]
    },
    {
      "cell_type": "code",
      "metadata": {
        "id": "UjlCsPTW4M-k",
        "outputId": "0c516486-deef-41a8-9d72-b3d3b3d973a0",
        "colab": {
          "base_uri": "https://localhost:8080/",
          "height": 298
        }
      },
      "source": [
        "# Filtrando apenas as cidades de IDH baixo e fazendo a média de notas de todas.\n",
        "idh_baixo = data.query(\"NO_MUNICIPIO_PROVA == 'Mirandiba' or NO_MUNICIPIO_PROVA == 'Santa Maria da Boa Vista' or  NO_MUNICIPIO_PROVA == 'Agrestina' or NO_MUNICIPIO_PROVA == 'Cupira' or NO_MUNICIPIO_PROVA == '\tOuricuri' \")\n",
        "idh_baixo_presentes = idh_baixo.query(\"NU_NOTA_CN != 'NaN' and NU_NOTA_CH != 'NaN' and NU_NOTA_LC != 'NaN' and NU_NOTA_MT != 'NaN'\") # 4091\n",
        "media_idh_baixo =  idh_baixo_presentes[notas].mean()\n",
        "media_idh_baixo[0]\n",
        "#sns.barplot(data=media_idh_baixo)\n",
        "plt.figure(figsize=(10,8))\n",
        "materias2 = [\"CN\", \"CH\", \"Linguagens\", \"Matemática\", \"Redação\"]\n",
        "x = np.arange(len(materias2))\n",
        "width = 0.25\n",
        "fig, ax = plt.subplots()\n",
        "ax.bar(x + 0.00, media_idh_alto, color = 'royalblue', width = 0.25, label='IDH Alto')\n",
        "ax.bar(x + 0.25, media_idh_medio,color = 'cornflowerblue',  width=0.25, label='IDH Médio')\n",
        "ax.bar(x + 0.50, media_idh_baixo,color = 'lightsteelblue', width=0.25 ,label='IDH Baixo')\n",
        "ax.set_ylabel('Notas')\n",
        "ax.set_title('Notas por tipo de escola')\n",
        "ax.set_xticks(x + 0.25)\n",
        "ax.set_xticklabels(materias2)\n",
        "ax.legend()\n",
        "plt.show()"
      ],
      "execution_count": 383,
      "outputs": [
        {
          "output_type": "display_data",
          "data": {
            "text/plain": [
              "<Figure size 720x576 with 0 Axes>"
            ]
          },
          "metadata": {
            "tags": []
          }
        },
        {
          "output_type": "display_data",
          "data": {
            "image/png": "[encoded data removed]",
            "text/plain": [
              "<Figure size 432x288 with 1 Axes>"
            ]
          },
          "metadata": {
            "tags": [],
            "needs_background": "light"
          }
        }
      ]
    },
    {
      "cell_type": "markdown",
      "metadata": {
        "id": "A0Vur5Mzi9Vv"
      },
      "source": [
        "## **ANÁLISE DAS MÉDIAS DOS CANDIDATOS DE ACORDO COM A RAÇA DECLARADA QUE COMPARECERAM NA PROVA**"
      ]
    },
    {
      "cell_type": "code",
      "metadata": {
        "id": "jH-GS8oWDUfc",
        "outputId": "1ba7b992-7b88-4aa6-a00b-e4bf588e6365",
        "colab": {
          "base_uri": "https://localhost:8080/",
          "height": 298
        }
      },
      "source": [
        "brancos = data.query(\"TP_COR_RACA == 1\") \n",
        "pretos = data.query(\"TP_COR_RACA == 2\")\n",
        "pardos = data.query(\"TP_COR_RACA == 3\")\n",
        "amarelos = data.query(\"TP_COR_RACA == 4\")\n",
        "indigenas = data.query(\"TP_COR_RACA == 5\")\n",
        "media_brancos_notas = brancos[notas].dropna().mean()      # 60498\n",
        "media_pretos_notas = pretos[notas].dropna().mean()        # 23686\n",
        "media_pardos_notas = pardos[notas].dropna().mean()         # 107985\n",
        "media_amarelos_notas = amarelos[notas].dropna().mean()     # 5829\n",
        "media_indigenas_notas = indigenas[notas].dropna().mean()   # 2650\n",
        "\n",
        "#print(data[notas].mean().dropna())\n",
        "plt.figure(figsize=(10,8))\n",
        "materias2 = [\"CN\", \"CH\", \"Linguagens\", \"Matemática\", \"Redação\"]\n",
        "x = np.arange(len(materias2))\n",
        "width = 0.25\n",
        "fig, ax = plt.subplots()\n",
        "ax.bar(x + 0.00, media_brancos_notas , color = 'navy' , width = 0.1, label='Brancos')\n",
        "ax.bar(x + 0.1, media_pardos_notas, color = 'mediumblue', width=0.1 ,label='Pardos')\n",
        "ax.bar(x + 0.2, media_amarelos_notas,color = 'royalblue', width=0.1 ,label='Amarelos')\n",
        "ax.bar(x + 0.3, media_pretos_notas, color = 'cornflowerblue' ,  width=0.1, label='Pretos')\n",
        "ax.bar(x + 0.4, media_indigenas_notas,color = 'lightsteelblue', width=0.1 ,label='Indigenas')\n",
        "ax.set_ylabel('Notas')\n",
        "ax.set_title('Notas por tipo de escola')\n",
        "ax.set_xticks(x + 0.2)\n",
        "ax.set_xticklabels(materias2)\n",
        "ax.legend()\n",
        "plt.show()\n",
        "\n"
      ],
      "execution_count": 425,
      "outputs": [
        {
          "output_type": "display_data",
          "data": {
            "text/plain": [
              "<Figure size 720x576 with 0 Axes>"
            ]
          },
          "metadata": {
            "tags": []
          }
        },
        {
          "output_type": "display_data",
          "data": {
            "image/png": "[encoded data removed]",
            "text/plain": [
              "<Figure size 432x288 with 1 Axes>"
            ]
          },
          "metadata": {
            "tags": [],
            "needs_background": "light"
          }
        }
      ]
    },
    {
      "cell_type": "markdown",
      "metadata": {
        "id": "UKfNaxxKi9rd"
      },
      "source": [
        "## **TESTES**"
      ]
    }
  ]
}